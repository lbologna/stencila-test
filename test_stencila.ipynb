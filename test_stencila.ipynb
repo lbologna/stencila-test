{
 "cells": [
  {
   "cell_type": "code",
   "execution_count": null,
   "id": "65defe37-355f-42d0-a358-9412a965e385",
   "metadata": {},
   "outputs": [],
   "source": [
    "import os\n",
    "print(\"Hello World\")"
   ]
  }
 ],
 "metadata": {
  "kernelspec": {
   "display_name": "EBRAINS_release_v0.1_202109",
   "language": "python",
   "name": "spack_python_kernel_release_20210930"
  },
  "language_info": {
   "codemirror_mode": {
    "name": "ipython",
    "version": 3
   },
   "file_extension": ".py",
   "mimetype": "text/x-python",
   "name": "python",
   "nbconvert_exporter": "python",
   "pygments_lexer": "ipython3",
   "version": "3.8.11"
  }
 },
 "nbformat": 4,
 "nbformat_minor": 5
}
